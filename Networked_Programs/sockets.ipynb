{
 "cells": [
  {
   "cell_type": "code",
   "execution_count": 1,
   "metadata": {},
   "outputs": [
    {
     "name": "stdout",
     "output_type": "stream",
     "text": [
      "HTTP/1.1 200 OK\n",
      "Date: Fri, 06 May 2022 06:44:55 GMT\n",
      "Server: Apache/2.4.18 (Ubuntu)\n",
      "Last-Modified: Sat, 13 May 2017 11:22:22 GMT\n",
      "ETag: \"a7-54f6609245537\"\n",
      "Accept-Ranges: bytes\n",
      "Content-Length: 167\n",
      "Cache-Control: max-age=0, no-cache, no-store, must-revalidate\n",
      "Pragma: no-cache\n",
      "Expires: Wed, 11 Jan 1984 05:00:00 GMT\n",
      "Connection: close\n",
      "Content-Type: text/plain\n",
      "\n",
      "But soft what light through yonder window breaks\n",
      "It is the east and Juliet is the sun\n",
      "Arise fair sun and kill the envious moon\n",
      "Who is already s\n",
      "ick and pale with grief\n",
      "\n",
      "data too short\n"
     ]
    },
    {
     "ename": "OSError",
     "evalue": "[Errno 106] Transport endpoint is already connected",
     "output_type": "error",
     "traceback": [
      "\u001b[0;31m---------------------------------------------------------------------------\u001b[0m",
      "\u001b[0;31mOSError\u001b[0m                                   Traceback (most recent call last)",
      "\u001b[1;32m/home/adityadate/Learning/Python-Learning/Networked_Programs/sockets.ipynb Cell 1'\u001b[0m in \u001b[0;36m<cell line: 21>\u001b[0;34m()\u001b[0m\n\u001b[1;32m     <a href='vscode-notebook-cell://wsl%2Bubuntu-20.04/home/adityadate/Learning/Python-Learning/Networked_Programs/sockets.ipynb#ch0000000vscode-remote?line=18'>19</a>\u001b[0m         \u001b[39mbreak\u001b[39;00m\n\u001b[1;32m     <a href='vscode-notebook-cell://wsl%2Bubuntu-20.04/home/adityadate/Learning/Python-Learning/Networked_Programs/sockets.ipynb#ch0000000vscode-remote?line=19'>20</a>\u001b[0m     \u001b[39mprint\u001b[39m(data\u001b[39m.\u001b[39mdecode())\n\u001b[0;32m---> <a href='vscode-notebook-cell://wsl%2Bubuntu-20.04/home/adityadate/Learning/Python-Learning/Networked_Programs/sockets.ipynb#ch0000000vscode-remote?line=20'>21</a>\u001b[0m \u001b[39mprint\u001b[39m(mysock\u001b[39m.\u001b[39;49mconnect((\u001b[39m'\u001b[39;49m\u001b[39mdata.pr4e.org\u001b[39;49m\u001b[39m'\u001b[39;49m, \u001b[39m80\u001b[39;49m)))\n",
      "\u001b[0;31mOSError\u001b[0m: [Errno 106] Transport endpoint is already connected"
     ]
    }
   ],
   "source": [
    "import socket\n",
    "\n",
    "# socket works at the transport layer, making a TCP connection\n",
    "# setup the socket, in this case and internet socket to connect, stream data through\n",
    "mysock = socket.socket(socket.AF_INET, socket.SOCK_STREAM)\n",
    "\n",
    "# The following line makes the actual connection to the socket\n",
    "mysock.connect(('data.pr4e.org', 80))\n",
    "\n",
    "# The following code acts as a web browser, giving cmd line commands to a server\n",
    "\n",
    "cmd = 'GET http://data.pr4e.org/romeo.txt HTTP/1.0\\r\\n\\r\\n'.encode()\n",
    "mysock.send(cmd)\n",
    "\n",
    "while True:\n",
    "    data = mysock.recv(512)\n",
    "    if (len(data) <1):\n",
    "        print('data too short')\n",
    "        break\n",
    "    print(data.decode())\n",
    "\n",
    "# as we are already connected to socket above, the following would throw an OSError\n",
    "print(mysock.connect(('data.pr4e.org', 80)))"
   ]
  }
 ],
 "metadata": {
  "interpreter": {
   "hash": "916dbcbb3f70747c44a77c7bcd40155683ae19c65e1c03b4aa3499c5328201f1"
  },
  "kernelspec": {
   "display_name": "Python 3.8.10 64-bit",
   "language": "python",
   "name": "python3"
  },
  "language_info": {
   "codemirror_mode": {
    "name": "ipython",
    "version": 3
   },
   "file_extension": ".py",
   "mimetype": "text/x-python",
   "name": "python",
   "nbconvert_exporter": "python",
   "pygments_lexer": "ipython3",
   "version": "3.8.10"
  },
  "orig_nbformat": 4
 },
 "nbformat": 4,
 "nbformat_minor": 2
}
