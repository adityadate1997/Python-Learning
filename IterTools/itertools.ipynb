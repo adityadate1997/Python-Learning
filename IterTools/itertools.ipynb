{
 "cells": [
  {
   "cell_type": "code",
   "execution_count": 3,
   "metadata": {},
   "outputs": [
    {
     "data": {
      "text/plain": [
       "[(1, 3), (1, 4), (2, 3), (2, 4)]"
      ]
     },
     "execution_count": 3,
     "metadata": {},
     "output_type": "execute_result"
    }
   ],
   "source": [
    "from itertools import product\n",
    "\n",
    "a = [1,2]\n",
    "b = [3,4]\n",
    "\n",
    "prod = list(product(a,b))\n",
    "prod"
   ]
  },
  {
   "cell_type": "code",
   "execution_count": 6,
   "metadata": {},
   "outputs": [
    {
     "data": {
      "text/plain": [
       "[(1, 3, 1, 3), (1, 3, 2, 3), (2, 3, 1, 3), (2, 3, 2, 3)]"
      ]
     },
     "execution_count": 6,
     "metadata": {},
     "output_type": "execute_result"
    }
   ],
   "source": [
    "b = [3]\n",
    "prod = list(product(a,b,  repeat=2))\n",
    "prod"
   ]
  },
  {
   "cell_type": "code",
   "execution_count": 7,
   "metadata": {},
   "outputs": [
    {
     "data": {
      "text/plain": [
       "[(1, 2, 3), (1, 3, 2), (2, 1, 3), (2, 3, 1), (3, 1, 2), (3, 2, 1)]"
      ]
     },
     "execution_count": 7,
     "metadata": {},
     "output_type": "execute_result"
    }
   ],
   "source": [
    "from itertools import permutations\n",
    "\n",
    "a = [1, 2, 3]\n",
    "\n",
    "perm = permutations(a)\n",
    "list(perm)"
   ]
  },
  {
   "cell_type": "code",
   "execution_count": 8,
   "metadata": {},
   "outputs": [
    {
     "data": {
      "text/plain": [
       "[(1, 2), (1, 3), (2, 3)]"
      ]
     },
     "execution_count": 8,
     "metadata": {},
     "output_type": "execute_result"
    }
   ],
   "source": [
    "from itertools import combinations\n",
    "# 2nd arg is the length of tule to make combinations as\n",
    "comb = combinations(a, 2)\n",
    "list(comb)"
   ]
  },
  {
   "cell_type": "code",
   "execution_count": 10,
   "metadata": {},
   "outputs": [
    {
     "data": {
      "text/plain": [
       "[1, 3, 6]"
      ]
     },
     "execution_count": 10,
     "metadata": {},
     "output_type": "execute_result"
    }
   ],
   "source": [
    "from itertools import accumulate\n",
    "# returns the accumulated result, default is sums\n",
    "\n",
    "acc = accumulate(a)\n",
    "list(acc)"
   ]
  },
  {
   "cell_type": "code",
   "execution_count": 13,
   "metadata": {},
   "outputs": [
    {
     "data": {
      "text/plain": [
       "[1, 2, 3, 3, 3]"
      ]
     },
     "execution_count": 13,
     "metadata": {},
     "output_type": "execute_result"
    }
   ],
   "source": [
    "import operator\n",
    "\n",
    "a = [1, 2, 3, 3, 2]\n",
    "# for multiplication, can be used with any operator\n",
    "acc = accumulate(a, func=max)\n",
    "\n",
    "list(acc)"
   ]
  },
  {
   "cell_type": "code",
   "execution_count": 15,
   "metadata": {},
   "outputs": [
    {
     "name": "stdout",
     "output_type": "stream",
     "text": [
      "True [1, 2]\n",
      "False [3, 3]\n",
      "True [2]\n"
     ]
    }
   ],
   "source": [
    "from itertools import groupby\n",
    "#  returns keys in groups by iterables \n",
    "def smaller_than_3(x):\n",
    "    return x < 3\n",
    "\n",
    "group = groupby(a, key=smaller_than_3)\n",
    "\n",
    "for key, val in group:\n",
    "    print(key, list(val))"
   ]
  },
  {
   "cell_type": "code",
   "execution_count": 16,
   "metadata": {},
   "outputs": [
    {
     "name": "stdout",
     "output_type": "stream",
     "text": [
      "25 [{'name': 'a', 'age': 25}, {'name': 'b', 'age': 25}]\n",
      "54 [{'name': 'ad', 'age': 54}, {'name': 'sfs', 'age': 54}]\n",
      "20 [{'name': 'qwe', 'age': 20}]\n"
     ]
    }
   ],
   "source": [
    "# use case example \n",
    "persons = [{'name':'a', 'age': 25}, {'name':'b', 'age': 25}, {'name':'ad', 'age': 54}, {'name':'sfs', 'age': 54}, {'name':'qwe', 'age': 20}]\n",
    "\n",
    "group = groupby(persons, key=lambda a: a['age'])\n",
    "\n",
    "for key, val in group:\n",
    "    print(key, list(val))"
   ]
  },
  {
   "cell_type": "code",
   "execution_count": 21,
   "metadata": {},
   "outputs": [
    {
     "name": "stdout",
     "output_type": "stream",
     "text": [
      "10\n",
      "11\n",
      "12\n",
      "13\n",
      "14\n",
      "15\n"
     ]
    }
   ],
   "source": [
    "# infinite iterables\n",
    "\n",
    "from itertools import count, cycle, repeat\n",
    "#  for count starting from the first arg, with step as an optional second arg\n",
    "for i in count(10):\n",
    "    print(i)\n",
    "    if i == 15:\n",
    "        break"
   ]
  },
  {
   "cell_type": "code",
   "execution_count": 24,
   "metadata": {},
   "outputs": [
    {
     "name": "stdout",
     "output_type": "stream",
     "text": [
      "1\n",
      "2\n",
      "3\n",
      "1\n",
      "2\n"
     ]
    }
   ],
   "source": [
    "some = [1, 2, 3]\n",
    "count = 0\n",
    "for i in cycle(some):\n",
    "    print(i)\n",
    "    count += 1\n",
    "    if count == 5:\n",
    "        break"
   ]
  },
  {
   "cell_type": "code",
   "execution_count": 25,
   "metadata": {},
   "outputs": [
    {
     "name": "stdout",
     "output_type": "stream",
     "text": [
      "asd\n",
      "asd\n",
      "asd\n",
      "asd\n"
     ]
    }
   ],
   "source": [
    "for i in repeat(\"asd\", 4):\n",
    "    print(i)"
   ]
  }
 ],
 "metadata": {
  "interpreter": {
   "hash": "916dbcbb3f70747c44a77c7bcd40155683ae19c65e1c03b4aa3499c5328201f1"
  },
  "kernelspec": {
   "display_name": "Python 3.8.10 64-bit",
   "language": "python",
   "name": "python3"
  },
  "language_info": {
   "codemirror_mode": {
    "name": "ipython",
    "version": 3
   },
   "file_extension": ".py",
   "mimetype": "text/x-python",
   "name": "python",
   "nbconvert_exporter": "python",
   "pygments_lexer": "ipython3",
   "version": "3.8.10"
  },
  "orig_nbformat": 4
 },
 "nbformat": 4,
 "nbformat_minor": 2
}
