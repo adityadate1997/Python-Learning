{
 "cells": [
  {
   "cell_type": "code",
   "execution_count": 2,
   "metadata": {},
   "outputs": [
    {
     "name": "stdout",
     "output_type": "stream",
     "text": [
      "Name: Abc\n",
      "Attr: yes\n"
     ]
    }
   ],
   "source": [
    "import xml.etree.ElementTree as ET\n",
    "\n",
    "data = '''<person>\n",
    "    <name>Abc</name>\n",
    "    <phone type=\"int1\">\n",
    "    +1 734 303 4456\n",
    "    </phone>\n",
    "    <email hide=\"yes\"/>\n",
    "</person>'''\n",
    "\n",
    "tree = ET.fromstring(data)\n",
    "print('Name:', tree.find('name').text)\n",
    "print('Attr:', tree.find('email').get('hide'))"
   ]
  },
  {
   "cell_type": "code",
   "execution_count": 13,
   "metadata": {},
   "outputs": [
    {
     "name": "stdout",
     "output_type": "stream",
     "text": [
      "No of People: 2\n",
      "Name Abc\n",
      "Phn \n",
      "            +1 734 303 4456\n",
      "            \n",
      "Attr: yes\n",
      "Name BCD\n",
      "Phn \n",
      "            +1 734 213 4456\n",
      "            \n",
      "Attr: yes\n"
     ]
    }
   ],
   "source": [
    "data = '''<list>\n",
    "    <people>\n",
    "        <person>\n",
    "            <name>Abc</name>\n",
    "            <phone type=\"int1\">\n",
    "            +1 734 303 4456\n",
    "            </phone>\n",
    "            <email hide=\"yes\"/>\n",
    "        </person>\n",
    "        <person>\n",
    "            <name>BCD</name>\n",
    "            <phone type=\"int1\">\n",
    "            +1 734 213 4456\n",
    "            </phone>\n",
    "            <email hide=\"yes\"/>\n",
    "        </person>\n",
    "    </people>\n",
    "</list>'''\n",
    "\n",
    "obj = ET.fromstring(data)\n",
    "lst = obj.findall('people/person')\n",
    "print('No of People:', len(lst))\n",
    "\n",
    "for item in lst:\n",
    "    print('Name', item.find('name').text)\n",
    "    print('Phn', item.find('phone').text)\n",
    "    print('Attr:', tree.find('email').get('hide'))"
   ]
  },
  {
   "cell_type": "code",
   "execution_count": 16,
   "metadata": {},
   "outputs": [
    {
     "name": "stdout",
     "output_type": "stream",
     "text": [
      "a     b\n"
     ]
    }
   ],
   "source": [
    "print('a' + 5*' ' + 'b')"
   ]
  }
 ],
 "metadata": {
  "interpreter": {
   "hash": "916dbcbb3f70747c44a77c7bcd40155683ae19c65e1c03b4aa3499c5328201f1"
  },
  "kernelspec": {
   "display_name": "Python 3.8.10 64-bit",
   "language": "python",
   "name": "python3"
  },
  "language_info": {
   "codemirror_mode": {
    "name": "ipython",
    "version": 3
   },
   "file_extension": ".py",
   "mimetype": "text/x-python",
   "name": "python",
   "nbconvert_exporter": "python",
   "pygments_lexer": "ipython3",
   "version": "3.8.10"
  },
  "orig_nbformat": 4
 },
 "nbformat": 4,
 "nbformat_minor": 2
}
