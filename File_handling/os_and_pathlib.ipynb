{
 "cells": [
  {
   "cell_type": "code",
   "execution_count": 1,
   "metadata": {},
   "outputs": [
    {
     "data": {
      "text/plain": [
       "['sub_dir_c', 'sub_dir', 'sub_dir_b', 'file1.py', 'file3.txt', 'file2.csv']"
      ]
     },
     "execution_count": 1,
     "metadata": {},
     "output_type": "execute_result"
    }
   ],
   "source": [
    "import os\n",
    "\n",
    "# Used in python versions less than 3\n",
    "os.listdir('my_dir')"
   ]
  },
  {
   "cell_type": "code",
   "execution_count": 2,
   "metadata": {},
   "outputs": [
    {
     "name": "stdout",
     "output_type": "stream",
     "text": [
      "sub_dir_c\n",
      "sub_dir\n",
      "sub_dir_b\n",
      "file1.py\n",
      "file3.txt\n",
      "file2.csv\n"
     ]
    }
   ],
   "source": [
    "entries = os.listdir('my_dir')\n",
    "\n",
    "for entry in entries:\n",
    "    print(entry)"
   ]
  },
  {
   "cell_type": "code",
   "execution_count": 3,
   "metadata": {},
   "outputs": [
    {
     "name": "stdout",
     "output_type": "stream",
     "text": [
      "<posix.ScandirIterator object at 0x7f5b63875ea0>\n"
     ]
    }
   ],
   "source": [
    "# os.scandir() - introduced in 3.5, returns iterator\n",
    "\n",
    "entries = os.scandir('my_dir/')\n",
    "print(entries)"
   ]
  },
  {
   "cell_type": "code",
   "execution_count": 4,
   "metadata": {},
   "outputs": [
    {
     "name": "stdout",
     "output_type": "stream",
     "text": [
      "sub_dir_c\n",
      "sub_dir\n",
      "sub_dir_b\n",
      "file1.py\n",
      "file3.txt\n",
      "file2.csv\n"
     ]
    }
   ],
   "source": [
    "# Usage with as it has context manager, which closes iterator when done\n",
    "with os.scandir('my_dir/'):\n",
    "    for entry in entries:\n",
    "        print(entry.name)"
   ]
  },
  {
   "cell_type": "code",
   "execution_count": 5,
   "metadata": {},
   "outputs": [
    {
     "name": "stdout",
     "output_type": "stream",
     "text": [
      "sub_dir_c\n",
      "sub_dir\n",
      "sub_dir_b\n",
      "file1.py\n",
      "file3.txt\n",
      "file2.csv\n"
     ]
    }
   ],
   "source": [
    "# Way 3, pathlib - provides oop approach, reduces imports, better than os.xx options\n",
    "from pathlib import Path\n",
    "\n",
    "entries = Path('my_dir/')\n",
    "\n",
    "for entry in entries.iterdir():\n",
    "    print(entry.name)"
   ]
  },
  {
   "cell_type": "code",
   "execution_count": 6,
   "metadata": {},
   "outputs": [
    {
     "name": "stdout",
     "output_type": "stream",
     "text": [
      "file1.py\n",
      "file3.txt\n",
      "file2.csv\n"
     ]
    }
   ],
   "source": [
    "basepath = 'my_dir'\n",
    "# to get just the files, not dirs\n",
    "for entry in os.listdir(basepath):\n",
    "    if os.path.isfile(os.path.join(basepath, entry)):\n",
    "        print(entry)"
   ]
  },
  {
   "cell_type": "code",
   "execution_count": 7,
   "metadata": {},
   "outputs": [
    {
     "name": "stdout",
     "output_type": "stream",
     "text": [
      "file1.py\n",
      "file3.txt\n",
      "file2.csv\n"
     ]
    }
   ],
   "source": [
    "# same as above function, with os.scandir()\n",
    "with os.scandir(basepath) as entries:\n",
    "    for entry in entries:\n",
    "        if entry.is_file():\n",
    "            print(entry.name)"
   ]
  },
  {
   "cell_type": "code",
   "execution_count": 8,
   "metadata": {},
   "outputs": [
    {
     "name": "stdout",
     "output_type": "stream",
     "text": [
      "file1.py\n",
      "file3.txt\n",
      "file2.csv\n"
     ]
    }
   ],
   "source": [
    "# same as above using pathlib.Path()\n",
    "\n",
    "pathlib_base = Path(basepath)\n",
    "files_in_basepath = pathlib_base.iterdir()\n",
    "\n",
    "for item in files_in_basepath:\n",
    "    if item.is_file():\n",
    "        print(item.name)"
   ]
  },
  {
   "cell_type": "code",
   "execution_count": 9,
   "metadata": {},
   "outputs": [
    {
     "name": "stdout",
     "output_type": "stream",
     "text": [
      "file1.py\n",
      "file3.txt\n",
      "file2.csv\n"
     ]
    }
   ],
   "source": [
    "# making the code more concise with generator expressions\n",
    "\n",
    "files_in_basepath = (entry for entry in pathlib_base.iterdir() if entry.is_file())\n",
    "for item in files_in_basepath:\n",
    "    print(item.name)"
   ]
  },
  {
   "cell_type": "code",
   "execution_count": 12,
   "metadata": {},
   "outputs": [
    {
     "name": "stdout",
     "output_type": "stream",
     "text": [
      "sub_dir_c\n",
      "sub_dir\n",
      "sub_dir_b\n"
     ]
    }
   ],
   "source": [
    "# Listing Subdirectories\n",
    "\n",
    "#  with listdir\n",
    "for entry in os.listdir(basepath):\n",
    "    if os.path.isdir(os.path.join(basepath, entry)):\n",
    "        print(entry)"
   ]
  },
  {
   "cell_type": "code",
   "execution_count": 14,
   "metadata": {},
   "outputs": [
    {
     "name": "stdout",
     "output_type": "stream",
     "text": [
      "sub_dir_c\n",
      "sub_dir\n",
      "sub_dir_b\n"
     ]
    }
   ],
   "source": [
    "# same as above function, with os.scandir()\n",
    "with os.scandir(basepath) as entries:\n",
    "    for entry in entries:\n",
    "        if entry.is_dir():\n",
    "            print(entry.name)"
   ]
  },
  {
   "cell_type": "code",
   "execution_count": 16,
   "metadata": {},
   "outputs": [
    {
     "name": "stdout",
     "output_type": "stream",
     "text": [
      "sub_dir_c\n",
      "sub_dir\n",
      "sub_dir_b\n"
     ]
    }
   ],
   "source": [
    "#  with pathlib\n",
    "files_in_basepath = (entry for entry in pathlib_base.iterdir() if entry.is_dir())\n",
    "for item in files_in_basepath:\n",
    "    print(item.name)"
   ]
  },
  {
   "cell_type": "code",
   "execution_count": 18,
   "metadata": {},
   "outputs": [
    {
     "name": "stdout",
     "output_type": "stream",
     "text": [
      "1650156703.88\n",
      "1650156662.64\n",
      "1650156675.12\n",
      "1650156600.78\n",
      "1650156641.375\n",
      "1650156611.57\n"
     ]
    }
   ],
   "source": [
    "# Getting File Attributes\n",
    "# get last modified usign scandir()\n",
    "with os.scandir(basepath) as entries:\n",
    "    for entry in entries:\n",
    "        last_modified = entry.stat()\n",
    "        print(last_modified.st_mtime)"
   ]
  },
  {
   "cell_type": "code",
   "execution_count": 25,
   "metadata": {},
   "outputs": [
    {
     "name": "stdout",
     "output_type": "stream",
     "text": [
      "1650156703.88\n",
      "1650156662.64\n",
      "1650156675.12\n",
      "1650156600.78\n",
      "1650156641.375\n",
      "1650156611.57\n"
     ]
    }
   ],
   "source": [
    "# with pathlib\n",
    "for item in pathlib_base.iterdir():\n",
    "    last_modified = item.stat()\n",
    "    print(last_modified.st_mtime)"
   ]
  },
  {
   "cell_type": "code",
   "execution_count": 28,
   "metadata": {},
   "outputs": [],
   "source": [
    "# To convert the values to readable format\n",
    "from datetime import datetime\n",
    "\n",
    "def convert_date(timestamp):\n",
    "    d = datetime.utcfromtimestamp(timestamp)\n",
    "    formatted_date = d.strftime('%d %b %Y')\n",
    "    return formatted_date\n",
    "\n",
    "def get_files():\n",
    "    dir_entries = os.scandir(basepath)\n",
    "    for entry in dir_entries:\n",
    "        if entry.is_file():\n",
    "            info = entry.stat()\n",
    "            print(f'{entry.name}\\t Last Modified: {convert_date(info.st_mtime)}')"
   ]
  },
  {
   "cell_type": "code",
   "execution_count": 31,
   "metadata": {},
   "outputs": [
    {
     "name": "stdout",
     "output_type": "stream",
     "text": [
      "sub_dir_c\t Last Modified: 17 Apr 2022\n",
      "sub_dir\t Last Modified: 17 Apr 2022\n",
      "sub_dir_b\t Last Modified: 17 Apr 2022\n",
      "file1.py\t Last Modified: 17 Apr 2022\n",
      "file3.txt\t Last Modified: 17 Apr 2022\n",
      "file2.csv\t Last Modified: 17 Apr 2022\n"
     ]
    }
   ],
   "source": [
    "get_files()"
   ]
  },
  {
   "cell_type": "code",
   "execution_count": 39,
   "metadata": {},
   "outputs": [],
   "source": [
    "# Creating a single dirctory\n",
    "\n",
    "# with os\n",
    "os.mkdir('example_dir/')\n",
    "os.rmdir('example_dir/')"
   ]
  },
  {
   "cell_type": "code",
   "execution_count": 43,
   "metadata": {},
   "outputs": [],
   "source": [
    "# with pathlib\n",
    "p = Path('example_dir')\n",
    "# p.mkdir()\n",
    "p.mkdir(exist_ok=True) # overwrites the existing dir, does not raise file exists exception"
   ]
  },
  {
   "cell_type": "code",
   "execution_count": 55,
   "metadata": {},
   "outputs": [],
   "source": [
    "# Creating multiple dirs\n",
    "\n",
    "# using os\n",
    "# os.makedirs('a/b/c')\n",
    "# os.rmdir('a')\n",
    "\n",
    "# using pathlib\n",
    "p = Path('a/b/c')\n",
    "p.mkdir(parents=True, exist_ok=True)\n",
    "p.rmdir()"
   ]
  },
  {
   "cell_type": "code",
   "execution_count": null,
   "metadata": {},
   "outputs": [],
   "source": []
  }
 ],
 "metadata": {
  "interpreter": {
   "hash": "916dbcbb3f70747c44a77c7bcd40155683ae19c65e1c03b4aa3499c5328201f1"
  },
  "kernelspec": {
   "display_name": "Python 3.8.10 64-bit",
   "language": "python",
   "name": "python3"
  },
  "language_info": {
   "codemirror_mode": {
    "name": "ipython",
    "version": 3
   },
   "file_extension": ".py",
   "mimetype": "text/x-python",
   "name": "python",
   "nbconvert_exporter": "python",
   "pygments_lexer": "ipython3",
   "version": "3.8.10"
  },
  "orig_nbformat": 4
 },
 "nbformat": 4,
 "nbformat_minor": 2
}
