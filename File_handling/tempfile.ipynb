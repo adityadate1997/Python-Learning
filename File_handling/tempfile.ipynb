{
 "cells": [
  {
   "cell_type": "code",
   "execution_count": 2,
   "metadata": {},
   "outputs": [],
   "source": [
    "# Tempfile - used for making temporary files and directories\n",
    "# Gives no name to the file by default\n",
    "# For named file, use tempfile.NamedTemporaryFile\n",
    "from tempfile import TemporaryFile\n",
    "\n",
    "# Create a temporary file with some data\n",
    "fp = TemporaryFile('w+t')\n",
    "fp.write('Hello universe!')\n",
    "\n",
    "# Read the data form file from the begining\n",
    "fp.seek(0) # move the file pointer to the start of the file\n",
    "data = fp.read()\n",
    "\n",
    "# CLose the file\n",
    "fp.close()"
   ]
  },
  {
   "cell_type": "code",
   "execution_count": 4,
   "metadata": {},
   "outputs": [],
   "source": [
    "# using with 'with' to delete automatically\n",
    "\n",
    "with TemporaryFile('w+t') as fp:\n",
    "    fp.write('Hello there')\n",
    "    fp.seek(0)\n",
    "    fp.read()"
   ]
  },
  {
   "cell_type": "code",
   "execution_count": 5,
   "metadata": {},
   "outputs": [
    {
     "name": "stdout",
     "output_type": "stream",
     "text": [
      "Created temporary directory /tmp/tmpo3o8_qsw\n"
     ]
    }
   ],
   "source": [
    "# To create a temporary directory\n",
    "import os\n",
    "from tempfile import TemporaryDirectory\n",
    "\n",
    "# deleted when out of context\n",
    "with TemporaryDirectory() as tempdir:\n",
    "    print('Created temporary directory', tempdir)\n",
    "    os.path.exists(tempdir)"
   ]
  }
 ],
 "metadata": {
  "interpreter": {
   "hash": "916dbcbb3f70747c44a77c7bcd40155683ae19c65e1c03b4aa3499c5328201f1"
  },
  "kernelspec": {
   "display_name": "Python 3.8.10 64-bit",
   "language": "python",
   "name": "python3"
  },
  "language_info": {
   "codemirror_mode": {
    "name": "ipython",
    "version": 3
   },
   "file_extension": ".py",
   "mimetype": "text/x-python",
   "name": "python",
   "nbconvert_exporter": "python",
   "pygments_lexer": "ipython3",
   "version": "3.8.10"
  },
  "orig_nbformat": 4
 },
 "nbformat": 4,
 "nbformat_minor": 2
}
