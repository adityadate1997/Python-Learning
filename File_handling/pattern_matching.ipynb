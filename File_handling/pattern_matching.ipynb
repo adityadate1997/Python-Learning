{
 "cells": [
  {
   "cell_type": "code",
   "execution_count": 14,
   "metadata": {},
   "outputs": [
    {
     "name": "stdout",
     "output_type": "stream",
     "text": [
      "data_02.txt\n",
      "data_02_backup.txt\n",
      "data_03.txt\n",
      "data_01_backup.txt\n",
      "data_03_backup.txt\n",
      "data_01.txt\n"
     ]
    }
   ],
   "source": [
    "from pathlib import Path\n",
    "\n",
    "basepath = Path('some_dir/')\n",
    "\n",
    "file_name_list = (entry for entry in basepath.iterdir() if entry)\n",
    "\n",
    "for file in file_name_list:\n",
    "    if file.name.endswith('.txt'):\n",
    "        print(file.name)"
   ]
  },
  {
   "cell_type": "code",
   "execution_count": 27,
   "metadata": {},
   "outputs": [
    {
     "name": "stdout",
     "output_type": "stream",
     "text": [
      "data_02_backup.txt\n",
      "data_01_backup.txt\n",
      "data_03_backup.txt\n"
     ]
    }
   ],
   "source": [
    "#  fnmatch() for pattern matching\n",
    "import fnmatch\n",
    "\n",
    "basepath = Path('some_dir/')\n",
    "\n",
    "file_name_list = (entry for entry in basepath.iterdir() if entry)\n",
    "\n",
    "file_name_list = [file_name for file_name in file_name_list]\n",
    "\n",
    "# Basic pattern matching\n",
    "# for file in file_name_list:\n",
    "#     if fnmatch.fnmatch(file.name,'*.txt'):\n",
    "#         print(file.name)\n",
    "\n",
    "# Advance pattern matching\n",
    "for file in file_name_list:\n",
    "    if fnmatch.fnmatch(file.name,'data_*_backup.txt'):\n",
    "        print(file.name)"
   ]
  },
  {
   "cell_type": "code",
   "execution_count": 30,
   "metadata": {},
   "outputs": [
    {
     "data": {
      "text/plain": [
       "['some_dir/admin.py', 'some_dir/tests.py']"
      ]
     },
     "execution_count": 30,
     "metadata": {},
     "output_type": "execute_result"
    }
   ],
   "source": [
    "# Pattern matching using glob\n",
    "# similar working to 'mv file /dir' in linux\n",
    "import glob\n",
    "\n",
    "glob.glob('some_dir/*py')"
   ]
  },
  {
   "cell_type": "code",
   "execution_count": 32,
   "metadata": {},
   "outputs": [
    {
     "data": {
      "text/plain": [
       "['some_dir/data_02.txt',\n",
       " 'some_dir/data_02_backup.txt',\n",
       " 'some_dir/data_03.txt',\n",
       " 'some_dir/data_01_backup.txt',\n",
       " 'some_dir/data_03_backup.txt',\n",
       " 'some_dir/data_01.txt']"
      ]
     },
     "execution_count": 32,
     "metadata": {},
     "output_type": "execute_result"
    }
   ],
   "source": [
    "glob.glob('some_dir/*[0-9]*.txt')"
   ]
  },
  {
   "cell_type": "code",
   "execution_count": 43,
   "metadata": {},
   "outputs": [
    {
     "name": "stdout",
     "output_type": "stream",
     "text": [
      "my_dir/file1.py\n",
      "some_dir/admin.py\n",
      "some_dir/tests.py\n",
      "-------------With Recursive------------\n",
      "open_func.py\n",
      "my_dir/file1.py\n",
      "my_dir/sub_dir_c/config.py\n",
      "my_dir/sub_dir_c/file5.py\n",
      "my_dir/sub_dir/foo.py\n",
      "my_dir/sub_dir/bar.py\n",
      "some_dir/admin.py\n",
      "some_dir/tests.py\n",
      "some_dir/sub_dir/file1.py\n",
      "some_dir/sub_dir/file2.py\n"
     ]
    }
   ],
   "source": [
    "# iglob returns iterator instead of an list in glob\n",
    "for file in glob.iglob('**/*.py'):\n",
    "    print(file)\n",
    "\n",
    "print(\"-------------With Recursive------------\")\n",
    "\n",
    "for file in glob.iglob('**/*.py', recursive=True):\n",
    "    print(file)"
   ]
  },
  {
   "cell_type": "code",
   "execution_count": 44,
   "metadata": {},
   "outputs": [
    {
     "name": "stdout",
     "output_type": "stream",
     "text": [
      "open_func.py\n",
      "my_dir/file1.py\n",
      "my_dir/sub_dir_c/config.py\n",
      "my_dir/sub_dir_c/file5.py\n",
      "my_dir/sub_dir/foo.py\n",
      "my_dir/sub_dir/bar.py\n",
      "some_dir/admin.py\n",
      "some_dir/tests.py\n",
      "some_dir/sub_dir/file1.py\n",
      "some_dir/sub_dir/file2.py\n"
     ]
    }
   ],
   "source": [
    "# similar fucntion to glob in pathlib\n",
    "p = Path('.')\n",
    "\n",
    "for name in p.glob('**/*.py'):\n",
    "    print(name)"
   ]
  }
 ],
 "metadata": {
  "interpreter": {
   "hash": "916dbcbb3f70747c44a77c7bcd40155683ae19c65e1c03b4aa3499c5328201f1"
  },
  "kernelspec": {
   "display_name": "Python 3.8.10 64-bit",
   "language": "python",
   "name": "python3"
  },
  "language_info": {
   "codemirror_mode": {
    "name": "ipython",
    "version": 3
   },
   "file_extension": ".py",
   "mimetype": "text/x-python",
   "name": "python",
   "nbconvert_exporter": "python",
   "pygments_lexer": "ipython3",
   "version": "3.8.10"
  },
  "orig_nbformat": 4
 },
 "nbformat": 4,
 "nbformat_minor": 2
}
