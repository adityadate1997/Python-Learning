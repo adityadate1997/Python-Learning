{
 "cells": [
  {
   "cell_type": "code",
   "execution_count": 3,
   "metadata": {},
   "outputs": [
    {
     "name": "stdout",
     "output_type": "stream",
     "text": [
      "['2', '19', '42']\n"
     ]
    }
   ],
   "source": [
    "# CheatSheet link: https://www.rexegg.com/regex-quickstart.html#chars\n",
    "\n",
    "# matching and extracting\n",
    "\n",
    "import re\n",
    "\n",
    "x = 'My 2 favourite numbers are 19 and 42'\n",
    "\n",
    "y = re.findall('[0-9]+', x)\n",
    "\n",
    "print(y)"
   ]
  },
  {
   "cell_type": "code",
   "execution_count": 5,
   "metadata": {},
   "outputs": [
    {
     "name": "stdout",
     "output_type": "stream",
     "text": [
      "[]\n"
     ]
    }
   ],
   "source": [
    "y = re.findall('[AEIOU]+', x)\n",
    "print(y)"
   ]
  },
  {
   "cell_type": "code",
   "execution_count": 7,
   "metadata": {},
   "outputs": [
    {
     "name": "stdout",
     "output_type": "stream",
     "text": [
      "['From: Using the :']\n"
     ]
    }
   ],
   "source": [
    "# Greedy Matching, takes the longer string\n",
    "x = 'From: Using the : character'\n",
    "\n",
    "y = re.findall('^F.+:', x)\n",
    "\n",
    "print(y)"
   ]
  },
  {
   "cell_type": "code",
   "execution_count": 9,
   "metadata": {},
   "outputs": [
    {
     "name": "stdout",
     "output_type": "stream",
     "text": [
      "['From:']\n"
     ]
    }
   ],
   "source": [
    "x = 'From: Using the : character'\n",
    "\n",
    "# Adding a '?' at the end makes it a non greedy match, and will take the shorter string i.e starty with F and end with : \n",
    "y = re.findall('^F.+?:', x)\n",
    "\n",
    "print(y)"
   ]
  },
  {
   "cell_type": "code",
   "execution_count": 14,
   "metadata": {},
   "outputs": [
    {
     "name": "stdout",
     "output_type": "stream",
     "text": [
      "['some@email.com']\n"
     ]
    }
   ],
   "source": [
    "#  Parenthesis to specify what part of the patttern your pattern when you dont want the whole pattern returned, but a part\n",
    "\n",
    "x = 'From: some@email.com has registered'\n",
    "\n",
    "# To just get the email which has registered\n",
    "y = re.findall('^From. (\\S+@\\S+)',x)\n",
    "print(y)"
   ]
  },
  {
   "cell_type": "code",
   "execution_count": 16,
   "metadata": {},
   "outputs": [
    {
     "name": "stdout",
     "output_type": "stream",
     "text": [
      "['email.co.jp']\n"
     ]
    }
   ],
   "source": [
    "# examples\n",
    "\n",
    "data = 'From some.one@email.co.jp Sat Jan 5 09:14:16 2008'\n",
    "\n",
    "y = re.findall('@([^ ]*)', data)\n",
    "\n",
    "print(y)"
   ]
  },
  {
   "cell_type": "code",
   "execution_count": 17,
   "metadata": {},
   "outputs": [
    {
     "name": "stdout",
     "output_type": "stream",
     "text": [
      "[]\n"
     ]
    }
   ],
   "source": [
    "# Similar way but with a more precise match as From is also specified\n",
    "y = re.findall('^From .@([^ ]*)', data)\n",
    "\n",
    "print(y)"
   ]
  },
  {
   "cell_type": "code",
   "execution_count": null,
   "metadata": {},
   "outputs": [],
   "source": []
  }
 ],
 "metadata": {
  "interpreter": {
   "hash": "916dbcbb3f70747c44a77c7bcd40155683ae19c65e1c03b4aa3499c5328201f1"
  },
  "kernelspec": {
   "display_name": "Python 3.8.10 64-bit",
   "language": "python",
   "name": "python3"
  },
  "language_info": {
   "codemirror_mode": {
    "name": "ipython",
    "version": 3
   },
   "file_extension": ".py",
   "mimetype": "text/x-python",
   "name": "python",
   "nbconvert_exporter": "python",
   "pygments_lexer": "ipython3",
   "version": "3.8.10"
  },
  "orig_nbformat": 4
 },
 "nbformat": 4,
 "nbformat_minor": 2
}
